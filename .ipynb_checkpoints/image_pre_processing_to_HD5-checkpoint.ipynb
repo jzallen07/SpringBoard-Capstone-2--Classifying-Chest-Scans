{
 "cells": [
  {
   "cell_type": "code",
   "execution_count": 30,
   "metadata": {
    "collapsed": true
   },
   "outputs": [],
   "source": [
    "# script adapted from https://www.kaggle.com/kmader/create-a-mini-xray-dataset-standard\n",
    "\n",
    "\n",
    "import numpy as np # linear algebra\n",
    "import pandas as pd # data processing, CSV file I/O (e.g. pd.read_csv)\n",
    "import os\n",
    "from cv2 import imread, createCLAHE # read and equalize images\n",
    "from glob import glob\n",
    "%matplotlib inline\n",
    "import matplotlib.pyplot as plt\n",
    "from tqdm import tqdm\n",
    "\n"
   ]
  },
  {
   "cell_type": "code",
   "execution_count": 31,
   "metadata": {},
   "outputs": [
    {
     "name": "stdout",
     "output_type": "stream",
     "text": [
      "Scans found: 5606 , Total Entries 5606\n"
     ]
    },
    {
     "data": {
      "text/html": [
       "<div>\n",
       "<style>\n",
       "    .dataframe thead tr:only-child th {\n",
       "        text-align: right;\n",
       "    }\n",
       "\n",
       "    .dataframe thead th {\n",
       "        text-align: left;\n",
       "    }\n",
       "\n",
       "    .dataframe tbody tr th {\n",
       "        vertical-align: top;\n",
       "    }\n",
       "</style>\n",
       "<table border=\"1\" class=\"dataframe\">\n",
       "  <thead>\n",
       "    <tr style=\"text-align: right;\">\n",
       "      <th></th>\n",
       "      <th>Image Index</th>\n",
       "      <th>Finding Labels</th>\n",
       "      <th>Patient ID</th>\n",
       "      <th>Patient Age</th>\n",
       "      <th>Patient Gender</th>\n",
       "      <th>View Position</th>\n",
       "      <th>path</th>\n",
       "    </tr>\n",
       "  </thead>\n",
       "  <tbody>\n",
       "    <tr>\n",
       "      <th>3347</th>\n",
       "      <td>00016508_065.png</td>\n",
       "      <td>Emphysema|Nodule</td>\n",
       "      <td>16508</td>\n",
       "      <td>52</td>\n",
       "      <td>F</td>\n",
       "      <td>AP</td>\n",
       "      <td>../data/images/00016508_065.png</td>\n",
       "    </tr>\n",
       "    <tr>\n",
       "      <th>3110</th>\n",
       "      <td>00015355_000.png</td>\n",
       "      <td>No Finding</td>\n",
       "      <td>15355</td>\n",
       "      <td>72</td>\n",
       "      <td>M</td>\n",
       "      <td>PA</td>\n",
       "      <td>../data/images/00015355_000.png</td>\n",
       "    </tr>\n",
       "    <tr>\n",
       "      <th>1371</th>\n",
       "      <td>00007120_015.png</td>\n",
       "      <td>No Finding</td>\n",
       "      <td>7120</td>\n",
       "      <td>54</td>\n",
       "      <td>F</td>\n",
       "      <td>PA</td>\n",
       "      <td>../data/images/00007120_015.png</td>\n",
       "    </tr>\n",
       "  </tbody>\n",
       "</table>\n",
       "</div>"
      ],
      "text/plain": [
       "           Image Index    Finding Labels  Patient ID  Patient Age  \\\n",
       "3347  00016508_065.png  Emphysema|Nodule       16508           52   \n",
       "3110  00015355_000.png        No Finding       15355           72   \n",
       "1371  00007120_015.png        No Finding        7120           54   \n",
       "\n",
       "     Patient Gender View Position                             path  \n",
       "3347              F            AP  ../data/images/00016508_065.png  \n",
       "3110              M            PA  ../data/images/00015355_000.png  \n",
       "1371              F            PA  ../data/images/00007120_015.png  "
      ]
     },
     "execution_count": 31,
     "metadata": {},
     "output_type": "execute_result"
    }
   ],
   "source": [
    "# import the data\n",
    "df = pd.read_csv('../data/sample_labels.csv')\n",
    "image_path = {os.path.basename(x): x for x in \n",
    "                   glob(os.path.join('..', 'data', 'images', '*.png'))}\n",
    "\n",
    "print('Scans found:', len(image_path), ', Total Entries', df.shape[0])\n",
    "\n",
    "df['path'] = df['Image Index'].map(image_path.get)\n",
    "\n",
    "df['Patient Age'] = df['Patient Age'].map(lambda x: int(x[:-1]))\n",
    "\n",
    "#cleaning up the columns\n",
    "df.drop(['Follow-up #', 'OriginalImageWidth', \n",
    "         'OriginalImageHeight', 'OriginalImagePixelSpacing_x', 'OriginalImagePixelSpacing_y'], axis=1, inplace=True)\n",
    "                                     \n",
    "df.sample(3)"
   ]
  },
  {
   "cell_type": "code",
   "execution_count": 32,
   "metadata": {},
   "outputs": [
    {
     "data": {
      "image/png": "[encoded data removed]",
      "text/plain": [
       "<matplotlib.figure.Figure at 0x7f6190c08da0>"
      ]
     },
     "metadata": {},
     "output_type": "display_data"
    }
   ],
   "source": [
    "label_counts = df['Finding Labels'].value_counts()[:15]\n",
    "fig, ax1 = plt.subplots(1,1,figsize = (12, 8))\n",
    "ax1.bar(np.arange(len(label_counts))+0.5, label_counts)\n",
    "ax1.set_xticks(np.arange(len(label_counts))+0.5)\n",
    "_ = ax1.set_xticklabels(label_counts.index, rotation = 90)"
   ]
  },
  {
   "cell_type": "code",
   "execution_count": 33,
   "metadata": {},
   "outputs": [
    {
     "name": "stdout",
     "output_type": "stream",
     "text": [
      "All Labels (15): ['Atelectasis', 'Cardiomegaly', 'Consolidation', 'Edema', 'Effusion', 'Emphysema', 'Fibrosis', 'Hernia', 'Infiltration', 'Mass', 'No Finding', 'Nodule', 'Pleural_Thickening', 'Pneumonia', 'Pneumothorax']\n"
     ]
    },
    {
     "data": {
      "text/html": [
       "<div>\n",
       "<style>\n",
       "    .dataframe thead tr:only-child th {\n",
       "        text-align: right;\n",
       "    }\n",
       "\n",
       "    .dataframe thead th {\n",
       "        text-align: left;\n",
       "    }\n",
       "\n",
       "    .dataframe tbody tr th {\n",
       "        vertical-align: top;\n",
       "    }\n",
       "</style>\n",
       "<table border=\"1\" class=\"dataframe\">\n",
       "  <thead>\n",
       "    <tr style=\"text-align: right;\">\n",
       "      <th></th>\n",
       "      <th>Image Index</th>\n",
       "      <th>Finding Labels</th>\n",
       "      <th>Patient ID</th>\n",
       "      <th>Patient Age</th>\n",
       "      <th>Patient Gender</th>\n",
       "      <th>View Position</th>\n",
       "      <th>path</th>\n",
       "      <th>Atelectasis</th>\n",
       "      <th>Cardiomegaly</th>\n",
       "      <th>Consolidation</th>\n",
       "      <th>...</th>\n",
       "      <th>Emphysema</th>\n",
       "      <th>Fibrosis</th>\n",
       "      <th>Hernia</th>\n",
       "      <th>Infiltration</th>\n",
       "      <th>Mass</th>\n",
       "      <th>No Finding</th>\n",
       "      <th>Nodule</th>\n",
       "      <th>Pleural_Thickening</th>\n",
       "      <th>Pneumonia</th>\n",
       "      <th>Pneumothorax</th>\n",
       "    </tr>\n",
       "  </thead>\n",
       "  <tbody>\n",
       "    <tr>\n",
       "      <th>5147</th>\n",
       "      <td>00027415_025.png</td>\n",
       "      <td>Nodule</td>\n",
       "      <td>27415</td>\n",
       "      <td>23</td>\n",
       "      <td>M</td>\n",
       "      <td>AP</td>\n",
       "      <td>../data/images/00027415_025.png</td>\n",
       "      <td>0.0</td>\n",
       "      <td>0.0</td>\n",
       "      <td>0.0</td>\n",
       "      <td>...</td>\n",
       "      <td>0.0</td>\n",
       "      <td>0.0</td>\n",
       "      <td>0.0</td>\n",
       "      <td>0.0</td>\n",
       "      <td>0.0</td>\n",
       "      <td>0.0</td>\n",
       "      <td>1.0</td>\n",
       "      <td>0.0</td>\n",
       "      <td>0.0</td>\n",
       "      <td>0.0</td>\n",
       "    </tr>\n",
       "    <tr>\n",
       "      <th>4532</th>\n",
       "      <td>00022611_005.png</td>\n",
       "      <td>Cardiomegaly|Consolidation|Effusion</td>\n",
       "      <td>22611</td>\n",
       "      <td>30</td>\n",
       "      <td>F</td>\n",
       "      <td>AP</td>\n",
       "      <td>../data/images/00022611_005.png</td>\n",
       "      <td>0.0</td>\n",
       "      <td>1.0</td>\n",
       "      <td>1.0</td>\n",
       "      <td>...</td>\n",
       "      <td>0.0</td>\n",
       "      <td>0.0</td>\n",
       "      <td>0.0</td>\n",
       "      <td>0.0</td>\n",
       "      <td>0.0</td>\n",
       "      <td>0.0</td>\n",
       "      <td>0.0</td>\n",
       "      <td>0.0</td>\n",
       "      <td>0.0</td>\n",
       "      <td>0.0</td>\n",
       "    </tr>\n",
       "    <tr>\n",
       "      <th>1078</th>\n",
       "      <td>00005681_018.png</td>\n",
       "      <td>Emphysema|Pneumonia</td>\n",
       "      <td>5681</td>\n",
       "      <td>46</td>\n",
       "      <td>M</td>\n",
       "      <td>AP</td>\n",
       "      <td>../data/images/00005681_018.png</td>\n",
       "      <td>0.0</td>\n",
       "      <td>0.0</td>\n",
       "      <td>0.0</td>\n",
       "      <td>...</td>\n",
       "      <td>1.0</td>\n",
       "      <td>0.0</td>\n",
       "      <td>0.0</td>\n",
       "      <td>0.0</td>\n",
       "      <td>0.0</td>\n",
       "      <td>0.0</td>\n",
       "      <td>0.0</td>\n",
       "      <td>0.0</td>\n",
       "      <td>1.0</td>\n",
       "      <td>0.0</td>\n",
       "    </tr>\n",
       "  </tbody>\n",
       "</table>\n",
       "<p>3 rows × 22 columns</p>\n",
       "</div>"
      ],
      "text/plain": [
       "           Image Index                       Finding Labels  Patient ID  \\\n",
       "5147  00027415_025.png                               Nodule       27415   \n",
       "4532  00022611_005.png  Cardiomegaly|Consolidation|Effusion       22611   \n",
       "1078  00005681_018.png                  Emphysema|Pneumonia        5681   \n",
       "\n",
       "      Patient Age Patient Gender View Position  \\\n",
       "5147           23              M            AP   \n",
       "4532           30              F            AP   \n",
       "1078           46              M            AP   \n",
       "\n",
       "                                 path  Atelectasis  Cardiomegaly  \\\n",
       "5147  ../data/images/00027415_025.png          0.0           0.0   \n",
       "4532  ../data/images/00022611_005.png          0.0           1.0   \n",
       "1078  ../data/images/00005681_018.png          0.0           0.0   \n",
       "\n",
       "      Consolidation      ...       Emphysema  Fibrosis  Hernia  Infiltration  \\\n",
       "5147            0.0      ...             0.0       0.0     0.0           0.0   \n",
       "4532            1.0      ...             0.0       0.0     0.0           0.0   \n",
       "1078            0.0      ...             1.0       0.0     0.0           0.0   \n",
       "\n",
       "      Mass  No Finding  Nodule  Pleural_Thickening  Pneumonia  Pneumothorax  \n",
       "5147   0.0         0.0     1.0                 0.0        0.0           0.0  \n",
       "4532   0.0         0.0     0.0                 0.0        0.0           0.0  \n",
       "1078   0.0         0.0     0.0                 0.0        1.0           0.0  \n",
       "\n",
       "[3 rows x 22 columns]"
      ]
     },
     "execution_count": 33,
     "metadata": {},
     "output_type": "execute_result"
    }
   ],
   "source": [
    "# changed all of the 'no finding' labels to blanks to then be removed furthe down the line for sample balancing\n",
    "# choosing to leave those for the time being\n",
    "# df['Finding Labels'] = df['Finding Labels'].map(lambda x: x.replace('No Finding', ''))\n",
    "\n",
    "from itertools import chain\n",
    "\n",
    "all_labels = np.unique(list(chain(*df['Finding Labels'].map(lambda x: x.split('|')).tolist())))\n",
    "\n",
    "all_labels = [x for x in all_labels if len(x)>0]\n",
    "\n",
    "print('All Labels ({}): {}'.format(len(all_labels), all_labels))\n",
    "\n",
    "for c_label in all_labels:\n",
    "    if len(c_label)>1: # leave out empty labels\n",
    "        df[c_label] = df['Finding Labels'].map(lambda finding: 1.0 if c_label in finding else 0)\n",
    "        \n",
    "df.sample(3)"
   ]
  },
  {
   "cell_type": "code",
   "execution_count": 34,
   "metadata": {},
   "outputs": [
    {
     "name": "stdout",
     "output_type": "stream",
     "text": [
      "Clean Labels (14) [('Atelectasis', 508), ('Cardiomegaly', 141), ('Consolidation', 226), ('Edema', 118), ('Effusion', 644), ('Emphysema', 127), ('Fibrosis', 84), ('Infiltration', 967), ('Mass', 284), ('No Finding', 3044), ('Nodule', 313), ('Pleural_Thickening', 176), ('Pneumonia', 62), ('Pneumothorax', 271)]\n"
     ]
    }
   ],
   "source": [
    "# keep at least 1000 cases\n",
    "\n",
    "MIN_CASES = 50\n",
    "\n",
    "all_labels = [c_label for c_label in all_labels if df[c_label].sum()>MIN_CASES]\n",
    "\n",
    "print('Clean Labels ({})'.format(len(all_labels)), \n",
    "      [(c_label,int(df[c_label].sum())) for c_label in all_labels])"
   ]
  },
  {
   "cell_type": "markdown",
   "metadata": {},
   "source": [
    "<div class=\"span5 alert alert-info\">\n",
    "below number will need to be adjusted to full data set\n",
    "</div>"
   ]
  },
  {
   "cell_type": "code",
   "execution_count": 35,
   "metadata": {},
   "outputs": [
    {
     "data": {
      "image/png": "[encoded data removed]",
      "text/plain": [
       "<matplotlib.figure.Figure at 0x7f6192ca0978>"
      ]
     },
     "metadata": {},
     "output_type": "display_data"
    }
   ],
   "source": [
    "# since the dataset is very unbiased, we can resample it to be a more reasonable collection\n",
    "\n",
    "# weight is 0.1 + number of findings\n",
    "\n",
    "sample_weights = df['Finding Labels'].map(lambda x: len(x.split('|')) if len(x)>0 else 0).values + 4e-2\n",
    "sample_weights /= sample_weights.sum()\n",
    "df = df.sample(5606, weights=sample_weights)\n",
    "\n",
    "\n",
    "label_counts = df['Finding Labels'].value_counts()[:15]\n",
    "fig, ax1 = plt.subplots(1,1,figsize = (12, 8))\n",
    "ax1.bar(np.arange(len(label_counts))+0.5, label_counts)\n",
    "ax1.set_xticks(np.arange(len(label_counts))+0.5)\n",
    "_ = ax1.set_xticklabels(label_counts.index, rotation = 90)"
   ]
  },
  {
   "cell_type": "code",
   "execution_count": 36,
   "metadata": {},
   "outputs": [
    {
     "data": {
      "text/plain": [
       "\"# since we can't have everything make a nice subset\\n# weight is 0.1 + number of findings\\n\\nsample_weights = df['Finding Labels'].map(lambda x: len(x.split('|')) if len(x)>0 else 0).values + 1e-1\\nsample_weights /= sample_weights.sum()\\ndf = df.sample(18000, weights=sample_weights)\\n\\nlabel_counts = df['Finding Labels'].value_counts()[:15]\\nfig, ax1 = plt.subplots(1,1,figsize = (12, 8))\\nax1.bar(np.arange(len(label_counts))+0.5, label_counts)\\nax1.set_xticks(np.arange(len(label_counts))+0.5)\\n_ = ax1.set_xticklabels(label_counts.index, rotation = 90)\""
      ]
     },
     "execution_count": 36,
     "metadata": {},
     "output_type": "execute_result"
    }
   ],
   "source": [
    "'''# since we can't have everything make a nice subset\n",
    "# weight is 0.1 + number of findings\n",
    "\n",
    "sample_weights = df['Finding Labels'].map(lambda x: len(x.split('|')) if len(x)>0 else 0).values + 1e-1\n",
    "sample_weights /= sample_weights.sum()\n",
    "df = df.sample(18000, weights=sample_weights)\n",
    "\n",
    "label_counts = df['Finding Labels'].value_counts()[:15]\n",
    "fig, ax1 = plt.subplots(1,1,figsize = (12, 8))\n",
    "ax1.bar(np.arange(len(label_counts))+0.5, label_counts)\n",
    "ax1.set_xticks(np.arange(len(label_counts))+0.5)\n",
    "_ = ax1.set_xticklabels(label_counts.index, rotation = 90)'''"
   ]
  },
  {
   "cell_type": "markdown",
   "metadata": {},
   "source": [
    "# Create an HDF5"
   ]
  },
  {
   "cell_type": "code",
   "execution_count": 37,
   "metadata": {
    "collapsed": true
   },
   "outputs": [],
   "source": [
    "import h5py\n",
    "from tqdm import tqdm\n",
    "\n",
    "def write_df_as_hdf(out_path,\n",
    "                    out_df,\n",
    "                    compression='gzip'):\n",
    "    with h5py.File(out_path, 'w') as h:\n",
    "        for k, arr_dict in tqdm(out_df.to_dict().items()):\n",
    "            try:\n",
    "                s_data = np.stack(arr_dict.values(), 0)\n",
    "                try:\n",
    "                    h.create_dataset(k, data=s_data, compression=\n",
    "                    compression)\n",
    "                except TypeError as e:\n",
    "                    try:\n",
    "                        h.create_dataset(k, data=s_data.astype(np.string_),\n",
    "                                         compression=compression)\n",
    "                    except TypeError as e2:\n",
    "                        print('%s could not be added to hdf5, %s' % (\n",
    "                            k, repr(e), repr(e2)))\n",
    "            except ValueError as e:\n",
    "                print('%s could not be created, %s' % (k, repr(e)))\n",
    "                all_shape = [np.shape(x) for x in arr_dict.values()]\n",
    "                warn('Input shapes: {}'.format(all_shape))"
   ]
  },
  {
   "cell_type": "code",
   "execution_count": 38,
   "metadata": {},
   "outputs": [
    {
     "name": "stdout",
     "output_type": "stream",
     "text": [
      "train 4484 validation 1122\n"
     ]
    }
   ],
   "source": [
    "from sklearn.model_selection import train_test_split\n",
    "\n",
    "train_df, valid_df = train_test_split(df, \n",
    "                                   test_size = 0.20, \n",
    "                                   random_state = 2007,\n",
    "                                   stratify = df['Finding Labels'].map(lambda x: x[:4]))\n",
    "\n",
    "print('train', train_df.shape[0], 'validation', valid_df.shape[0])"
   ]
  },
  {
   "cell_type": "code",
   "execution_count": 39,
   "metadata": {},
   "outputs": [
    {
     "name": "stderr",
     "output_type": "stream",
     "text": [
      "100%|██████████| 22/22 [00:00<00:00, 87.46it/s]"
     ]
    },
    {
     "name": "stdout",
     "output_type": "stream",
     "text": [
      "Atelectasis (4484,) float64\n",
      "Cardiomegaly (4484,) float64\n",
      "Consolidation (4484,) float64\n",
      "Edema (4484,) float64\n",
      "Effusion (4484,) float64\n",
      "Emphysema (4484,) float64\n",
      "Fibrosis (4484,) float64\n",
      "Finding Labels (4484,) |S84\n",
      "Hernia (4484,) float64\n",
      "Image Index (4484,) |S16\n",
      "Infiltration (4484,) float64\n",
      "Mass (4484,) float64\n",
      "No Finding (4484,) float64\n",
      "Nodule (4484,) float64\n",
      "Patient Age (4484,) int64\n",
      "Patient Gender (4484,) |S1\n",
      "Patient ID (4484,) int64\n",
      "Pleural_Thickening (4484,) float64\n",
      "Pneumonia (4484,) float64\n",
      "Pneumothorax (4484,) float64\n",
      "View Position (4484,) |S2\n",
      "path (4484,) |S31\n"
     ]
    },
    {
     "name": "stderr",
     "output_type": "stream",
     "text": [
      "\n"
     ]
    }
   ],
   "source": [
    "write_df_as_hdf('chest_xray_train_data.h5', train_df)\n",
    "\n",
    "# show what is inside\n",
    "with h5py.File('chest_xray_train_data.h5', 'r') as h5_data:\n",
    "    for c_key in h5_data.keys():\n",
    "        print(c_key, h5_data[c_key].shape, h5_data[c_key].dtype)"
   ]
  },
  {
   "cell_type": "code",
   "execution_count": 40,
   "metadata": {},
   "outputs": [
    {
     "name": "stderr",
     "output_type": "stream",
     "text": [
      "100%|██████████| 22/22 [00:00<00:00, 306.33it/s]\n"
     ]
    },
    {
     "name": "stdout",
     "output_type": "stream",
     "text": [
      "Atelectasis (1122,) float64\n",
      "Cardiomegaly (1122,) float64\n",
      "Consolidation (1122,) float64\n",
      "Edema (1122,) float64\n",
      "Effusion (1122,) float64\n",
      "Emphysema (1122,) float64\n",
      "Fibrosis (1122,) float64\n",
      "Finding Labels (1122,) |S56\n",
      "Hernia (1122,) float64\n",
      "Image Index (1122,) |S16\n",
      "Infiltration (1122,) float64\n",
      "Mass (1122,) float64\n",
      "No Finding (1122,) float64\n",
      "Nodule (1122,) float64\n",
      "Patient Age (1122,) int64\n",
      "Patient Gender (1122,) |S1\n",
      "Patient ID (1122,) int64\n",
      "Pleural_Thickening (1122,) float64\n",
      "Pneumonia (1122,) float64\n",
      "Pneumothorax (1122,) float64\n",
      "View Position (1122,) |S2\n",
      "path (1122,) |S31\n"
     ]
    }
   ],
   "source": [
    "write_df_as_hdf('chest_xray_valid_data.h5', valid_df)\n",
    "\n",
    "# show what is inside\n",
    "with h5py.File('chest_xray_valid_data.h5', 'r') as h5_data:\n",
    "    for c_key in h5_data.keys():\n",
    "        print(c_key, h5_data[c_key].shape, h5_data[c_key].dtype)"
   ]
  },
  {
   "cell_type": "code",
   "execution_count": 41,
   "metadata": {
    "collapsed": true
   },
   "outputs": [],
   "source": [
    "# write_df_as_hdf('chest_xray.h5', df)"
   ]
  },
  {
   "cell_type": "markdown",
   "metadata": {},
   "source": [
    "# show what is inside\n",
    "with h5py.File('chest_xray.h5', 'r') as h5_data:\n",
    "    for c_key in h5_data.keys():\n",
    "        print(c_key, h5_data[c_key].shape, h5_data[c_key].dtype)"
   ]
  },
  {
   "cell_type": "code",
   "execution_count": 42,
   "metadata": {
    "collapsed": true
   },
   "outputs": [],
   "source": [
    "from skimage.transform import resize\n",
    "\n",
    "OUT_DIM = (128, 128)\n",
    "\n",
    "def imread_and_normalize(im_path):\n",
    "    clahe_tool = createCLAHE(clipLimit=2.0, tileGridSize=(8,8))\n",
    "    img_data = np.mean(imread(im_path), 2).astype(np.uint8)\n",
    "    img_data = clahe_tool.apply(img_data)\n",
    "    n_img = (255*resize(img_data, OUT_DIM, mode = 'constant')).clip(0,255).astype(np.uint8)\n",
    "    return np.expand_dims(n_img, -1)\n"
   ]
  },
  {
   "cell_type": "code",
   "execution_count": 43,
   "metadata": {},
   "outputs": [
    {
     "data": {
      "text/plain": [
       "<matplotlib.image.AxesImage at 0x7f6175676d68>"
      ]
     },
     "execution_count": 43,
     "metadata": {},
     "output_type": "execute_result"
    },
    {
     "data": {
      "image/png": "[encoded data removed]",
      "text/plain": [
       "<matplotlib.figure.Figure at 0x7f6198ed0a90>"
      ]
     },
     "metadata": {},
     "output_type": "display_data"
    }
   ],
   "source": [
    "test_img_train = imread_and_normalize(train_df['path'].values[0])\n",
    "plt.matshow(test_img_train[:,:,0])"
   ]
  },
  {
   "cell_type": "code",
   "execution_count": 44,
   "metadata": {},
   "outputs": [
    {
     "data": {
      "text/plain": [
       "<matplotlib.image.AxesImage at 0x7f61750fdc50>"
      ]
     },
     "execution_count": 44,
     "metadata": {},
     "output_type": "execute_result"
    },
    {
     "data": {
      "image/png": "[encoded data removed]",
      "text/plain": [
       "<matplotlib.figure.Figure at 0x7f61751ecc18>"
      ]
     },
     "metadata": {},
     "output_type": "display_data"
    }
   ],
   "source": [
    "test_img_valid = imread_and_normalize(valid_df['path'].values[0])\n",
    "plt.matshow(test_img_valid[:,:,0])"
   ]
  },
  {
   "cell_type": "markdown",
   "metadata": {},
   "source": [
    "# Run time estimate"
   ]
  },
  {
   "cell_type": "code",
   "execution_count": 45,
   "metadata": {},
   "outputs": [
    {
     "data": {
      "text/plain": [
       "\"%%time\\n# time for 100 images\\npre_read_tiles = np.stack(train_df.sample(100)['path'].map(imread_and_normalize).values,0)\""
      ]
     },
     "execution_count": 45,
     "metadata": {},
     "output_type": "execute_result"
    }
   ],
   "source": [
    "'''%%time\n",
    "# time for 100 images\n",
    "pre_read_tiles = np.stack(train_df.sample(100)['path'].map(imread_and_normalize).values,0)'''"
   ]
  },
  {
   "cell_type": "code",
   "execution_count": 46,
   "metadata": {},
   "outputs": [
    {
     "data": {
      "text/plain": [
       "\"# might as well show-em if we have em\\nfrom skimage.util.montage import montage2d\\nfig, ax1 = plt.subplots(1,1, figsize = (12,12))\\nax1.imshow(montage2d(pre_read_tiles[:,:,:,0]), cmap = 'bone')\\nfig.savefig('overview.png', dpi = 600)\""
      ]
     },
     "execution_count": 46,
     "metadata": {},
     "output_type": "execute_result"
    }
   ],
   "source": [
    "'''# might as well show-em if we have em\n",
    "from skimage.util.montage import montage2d\n",
    "fig, ax1 = plt.subplots(1,1, figsize = (12,12))\n",
    "ax1.imshow(montage2d(pre_read_tiles[:,:,:,0]), cmap = 'bone')\n",
    "fig.savefig('overview.png', dpi = 600)'''"
   ]
  },
  {
   "cell_type": "markdown",
   "metadata": {},
   "source": [
    "whole array export"
   ]
  },
  {
   "cell_type": "code",
   "execution_count": 47,
   "metadata": {},
   "outputs": [
    {
     "data": {
      "text/plain": [
       "'# preallocate output\\nout_image_arr = np.zeros((df.shape[0],)+OUT_DIM+(1,), dtype=np.uint8)\\nif False:\\n    # a difficult to compress array for size approximations\\n    out_image_arr = np.random.uniform(0, 255,\\n                                  size = (df.shape[0],)+OUT_DIM+(1,)).astype(np.uint8)'"
      ]
     },
     "execution_count": 47,
     "metadata": {},
     "output_type": "execute_result"
    }
   ],
   "source": [
    "'''# preallocate output\n",
    "out_image_arr = np.zeros((df.shape[0],)+OUT_DIM+(1,), dtype=np.uint8)\n",
    "if False:\n",
    "    # a difficult to compress array for size approximations\n",
    "    out_image_arr = np.random.uniform(0, 255,\n",
    "                                  size = (df.shape[0],)+OUT_DIM+(1,)).astype(np.uint8)'''"
   ]
  },
  {
   "cell_type": "code",
   "execution_count": 48,
   "metadata": {},
   "outputs": [
    {
     "data": {
      "text/plain": [
       "\"for i, c_path in enumerate(tqdm(df['path'].values)):\\n    out_image_arr[i] = imread_and_normalize(c_path)\""
      ]
     },
     "execution_count": 48,
     "metadata": {},
     "output_type": "execute_result"
    }
   ],
   "source": [
    "'''for i, c_path in enumerate(tqdm(df['path'].values)):\n",
    "    out_image_arr[i] = imread_and_normalize(c_path)'''"
   ]
  },
  {
   "cell_type": "code",
   "execution_count": 49,
   "metadata": {},
   "outputs": [
    {
     "data": {
      "text/plain": [
       "\"# append the array\\nwith h5py.File('chest_xray.h5', 'a') as h5_data:\\n    h5_data.create_dataset('images', data = out_image_arr, compression = None) # compression takes too long\\n    for c_key in h5_data.keys():\\n        print(c_key, h5_data[c_key].shape, h5_data[c_key].dtype)\""
      ]
     },
     "execution_count": 49,
     "metadata": {},
     "output_type": "execute_result"
    }
   ],
   "source": [
    "'''# append the array\n",
    "with h5py.File('chest_xray.h5', 'a') as h5_data:\n",
    "    h5_data.create_dataset('images', data = out_image_arr, compression = None) # compression takes too long\n",
    "    for c_key in h5_data.keys():\n",
    "        print(c_key, h5_data[c_key].shape, h5_data[c_key].dtype)'''"
   ]
  },
  {
   "cell_type": "code",
   "execution_count": null,
   "metadata": {
    "collapsed": true
   },
   "outputs": [],
   "source": []
  },
  {
   "cell_type": "markdown",
   "metadata": {},
   "source": [
    "Train"
   ]
  },
  {
   "cell_type": "code",
   "execution_count": 50,
   "metadata": {
    "collapsed": true
   },
   "outputs": [],
   "source": [
    "# preallocate output\n",
    "out_image_arr_train = np.zeros((train_df.shape[0],)+OUT_DIM+(1,), dtype=np.uint8)\n",
    "if False:\n",
    "    # a difficult to compress array for size approximations\n",
    "    out_image_arr_train = np.random.uniform(0, 255,\n",
    "                                  size = (train_df.shape[0],)+OUT_DIM+(1,)).astype(np.uint8)"
   ]
  },
  {
   "cell_type": "code",
   "execution_count": 51,
   "metadata": {},
   "outputs": [
    {
     "name": "stderr",
     "output_type": "stream",
     "text": [
      "100%|██████████| 4484/4484 [05:00<00:00, 14.93it/s]\n"
     ]
    }
   ],
   "source": [
    "for i, c_path in enumerate(tqdm(train_df['path'].values)):\n",
    "    out_image_arr_train[i] = imread_and_normalize(c_path)"
   ]
  },
  {
   "cell_type": "code",
   "execution_count": 52,
   "metadata": {},
   "outputs": [
    {
     "name": "stdout",
     "output_type": "stream",
     "text": [
      "Atelectasis (4484,) float64\n",
      "Cardiomegaly (4484,) float64\n",
      "Consolidation (4484,) float64\n",
      "Edema (4484,) float64\n",
      "Effusion (4484,) float64\n",
      "Emphysema (4484,) float64\n",
      "Fibrosis (4484,) float64\n",
      "Finding Labels (4484,) |S84\n",
      "Hernia (4484,) float64\n",
      "Image Index (4484,) |S16\n",
      "Infiltration (4484,) float64\n",
      "Mass (4484,) float64\n",
      "No Finding (4484,) float64\n",
      "Nodule (4484,) float64\n",
      "Patient Age (4484,) int64\n",
      "Patient Gender (4484,) |S1\n",
      "Patient ID (4484,) int64\n",
      "Pleural_Thickening (4484,) float64\n",
      "Pneumonia (4484,) float64\n",
      "Pneumothorax (4484,) float64\n",
      "View Position (4484,) |S2\n",
      "images (4484, 128, 128, 1) uint8\n",
      "path (4484,) |S31\n"
     ]
    }
   ],
   "source": [
    "# append the array\n",
    "with h5py.File('chest_xray_train_data.h5', 'a') as h5_data:\n",
    "    h5_data.create_dataset('images', data = out_image_arr_train, compression = None) # compression takes too long\n",
    "    for c_key in h5_data.keys():\n",
    "        print(c_key, h5_data[c_key].shape, h5_data[c_key].dtype)"
   ]
  },
  {
   "cell_type": "markdown",
   "metadata": {},
   "source": [
    "Validation"
   ]
  },
  {
   "cell_type": "code",
   "execution_count": 53,
   "metadata": {
    "collapsed": true
   },
   "outputs": [],
   "source": [
    "# preallocate output\n",
    "out_image_arr_valid = np.zeros((valid_df.shape[0],)+OUT_DIM+(1,), dtype=np.uint8)\n",
    "if False:\n",
    "    # a difficult to compress array for size approximations\n",
    "    out_image_arr_valid = np.random.uniform(0, 255,\n",
    "                                  size = (valid_df.shape[0],)+OUT_DIM+(1,)).astype(np.uint8)"
   ]
  },
  {
   "cell_type": "code",
   "execution_count": 54,
   "metadata": {},
   "outputs": [
    {
     "name": "stderr",
     "output_type": "stream",
     "text": [
      "100%|██████████| 1122/1122 [01:16<00:00, 14.76it/s]\n"
     ]
    }
   ],
   "source": [
    "for i, c_path in enumerate(tqdm(valid_df['path'].values)):\n",
    "    out_image_arr_valid[i] = imread_and_normalize(c_path)"
   ]
  },
  {
   "cell_type": "code",
   "execution_count": 55,
   "metadata": {},
   "outputs": [
    {
     "name": "stdout",
     "output_type": "stream",
     "text": [
      "Atelectasis (1122,) float64\n",
      "Cardiomegaly (1122,) float64\n",
      "Consolidation (1122,) float64\n",
      "Edema (1122,) float64\n",
      "Effusion (1122,) float64\n",
      "Emphysema (1122,) float64\n",
      "Fibrosis (1122,) float64\n",
      "Finding Labels (1122,) |S56\n",
      "Hernia (1122,) float64\n",
      "Image Index (1122,) |S16\n",
      "Infiltration (1122,) float64\n",
      "Mass (1122,) float64\n",
      "No Finding (1122,) float64\n",
      "Nodule (1122,) float64\n",
      "Patient Age (1122,) int64\n",
      "Patient Gender (1122,) |S1\n",
      "Patient ID (1122,) int64\n",
      "Pleural_Thickening (1122,) float64\n",
      "Pneumonia (1122,) float64\n",
      "Pneumothorax (1122,) float64\n",
      "View Position (1122,) |S2\n",
      "images (1122, 128, 128, 1) uint8\n",
      "path (1122,) |S31\n"
     ]
    }
   ],
   "source": [
    "# append the array\n",
    "with h5py.File('chest_xray_valid_data.h5', 'a') as h5_data:\n",
    "    h5_data.create_dataset('images', data = out_image_arr_valid, compression = None) # compression takes too long\n",
    "    for c_key in h5_data.keys():\n",
    "        print(c_key, h5_data[c_key].shape, h5_data[c_key].dtype)"
   ]
  },
  {
   "cell_type": "code",
   "execution_count": 56,
   "metadata": {},
   "outputs": [
    {
     "name": "stdout",
     "output_type": "stream",
     "text": [
      "Train Output File-size 73.62MB\n",
      "Validation Output File-size 18.46MB\n"
     ]
    }
   ],
   "source": [
    "print('Train Output File-size %2.2fMB' % (os.path.getsize('chest_xray_train_data.h5')/1e6))\n",
    "print('Validation Output File-size %2.2fMB' % (os.path.getsize('chest_xray_valid_data.h5')/1e6))"
   ]
  },
  {
   "cell_type": "code",
   "execution_count": null,
   "metadata": {
    "collapsed": true
   },
   "outputs": [],
   "source": []
  },
  {
   "cell_type": "code",
   "execution_count": null,
   "metadata": {
    "collapsed": true
   },
   "outputs": [],
   "source": []
  }
 ],
 "metadata": {
  "kernelspec": {
   "display_name": "Python 3",
   "language": "python",
   "name": "python3"
  },
  "language_info": {
   "codemirror_mode": {
    "name": "ipython",
    "version": 3
   },
   "file_extension": ".py",
   "mimetype": "text/x-python",
   "name": "python",
   "nbconvert_exporter": "python",
   "pygments_lexer": "ipython3",
   "version": "3.6.2"
  }
 },
 "nbformat": 4,
 "nbformat_minor": 2
}
